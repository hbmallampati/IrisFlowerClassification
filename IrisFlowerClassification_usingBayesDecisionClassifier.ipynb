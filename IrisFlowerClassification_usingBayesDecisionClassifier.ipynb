{
  "cells": [
    {
      "cell_type": "markdown",
      "metadata": {
        "collapsed": true,
        "id": "d1jvXBfCDRqN"
      },
      "source": [
        "# DISCRIMINANT ANALYSIS\n",
        "\n",
        "In this coding assignment you are to implement a Minimum Risk Bayes Decision Theoretic classifier and use it to classify the test examples in the provided datasets.  \n",
        "Assume the following:\n",
        "1. All conditional density functions are multivariate Gaussian\n",
        "2. Each class has its own covariance matrix\n",
        "3. Equally likely prior probabilities\n",
        "4. 0-1 loss function\n"
      ]
    },
    {
      "cell_type": "markdown",
      "metadata": {
        "id": "-d-qRoESDRqP"
      },
      "source": [
        "## Training Phase"
      ]
    },
    {
      "cell_type": "code",
      "execution_count": 9,
      "metadata": {
        "ExecuteTime": {
          "end_time": "2021-10-23T05:45:44.508429Z",
          "start_time": "2021-10-23T05:45:44.479790Z"
        },
        "colab": {
          "base_uri": "https://localhost:8080/"
        },
        "id": "a5tFsCiqDRqQ",
        "outputId": "5e847722-31bf-4012-a51d-5f79ce1faa45"
      },
      "outputs": [
        {
          "output_type": "stream",
          "name": "stdout",
          "text": [
            "   sepal_length   sepal_width   petal_length   petal_width   class\n",
            "0        5.7147        2.6743         3.2696       1.65440       2\n",
            "1        5.1734        3.7374         5.9442       3.00050       3\n",
            "2        7.3776        3.1505         3.3543       0.64839       2\n",
            "3        6.4908        2.3983         3.3917       1.54950       2\n",
            "4        6.8182        3.4016         4.7495       0.57970       3\n",
            "   sepal_length   sepal_width   petal_length   petal_width   class\n",
            "0           4.4           2.9            1.4           0.2       1\n",
            "1           6.7           3.0            5.2           2.3       3\n",
            "2           4.9           3.1            1.5           0.2       1\n",
            "3           5.1           2.5            3.0           1.1       2\n",
            "4           6.1           3.0            4.6           1.4       2\n"
          ]
        }
      ],
      "source": [
        "import numpy as np\n",
        "import pandas as pd\n",
        "import matplotlib.pyplot as plt\n",
        "\n",
        "# Load training data - 135 observations, 4 features, 3 classes, \n",
        "df = pd.read_csv(\"iris_corrupted_training_data.csv\")\n",
        "print(df.head())\n",
        "df = df.values\n",
        "tr_data = df\n",
        "\n",
        "# Load validation data - 15 samples\n",
        "df = pd.read_csv(\"iris_validation_data.csv\")\n",
        "print(df.head())\n",
        "df = df.values\n",
        "val_data = df"
      ]
    },
    {
      "cell_type": "code",
      "execution_count": 6,
      "metadata": {
        "ExecuteTime": {
          "end_time": "2021-10-23T05:45:44.832102Z",
          "start_time": "2021-10-23T05:45:44.812969Z"
        },
        "id": "wbgINl8MDRqc"
      },
      "outputs": [],
      "source": [
        "# Compute various components of the disriminant functions\n",
        "tr_data1 = tr_data[np.where(tr_data[:,4]==1),:]  # shape = 1,45,5\n",
        "tr_data2 = tr_data[np.where(tr_data[:,4]==2),:]\n",
        "tr_data3 = tr_data[np.where(tr_data[:,4]==3),:]\n",
        "[i,j,k] = np.shape(tr_data1)\n",
        "\n",
        "tr_data1 = tr_data1.reshape(j,k)  # reshape to 2D (45,5), last col is label col\n",
        "tr_data2 = tr_data2.reshape(j,k)\n",
        "tr_data3 = tr_data3.reshape(j,k)\n",
        "\n",
        "# Size of tr_data* are now 45x4\n",
        "tr_data1 = tr_data1[:,0:4]\n",
        "tr_data2 = tr_data2[:,0:4]\n",
        "tr_data3 = tr_data3[:,0:4]\n",
        "\n",
        "\n",
        "# TO DO: \n",
        "# Find the mean of each class\n",
        "#  u1, u2, u3 are the 1x4 mean vectors for tr_data1, tr_data2, tr_data3 matrices\n",
        "#  Note: dimension of each of tr_data is 45x4, \n",
        "#        hence dimensions of u1, u2, u3 = 1x4\n",
        "# Hint: use np.mean\n",
        "\n",
        "u1 = np.mean(tr_data1,axis=0)\n",
        "u2 = np.mean(tr_data2,axis=0)\n",
        "u3 = np.mean(tr_data3,axis=0)\n",
        "\n",
        "\n",
        "# TO DO:\n",
        "# Find the covariance of each class\n",
        "#  cov1, cov2, cov3 are the covariance matrices of \n",
        "#      tr_data1, tr_data2, tr_data3\n",
        "#  dimension cov1, cov2, cov3 must be 4x4\n",
        "# Hint: use np.cov, np.tranpose\n",
        "\n",
        "cov1 = np.cov(tr_data1.transpose())\n",
        "cov2 = np.cov(tr_data2.transpose())\n",
        "cov3 = np.cov(tr_data3.transpose())\n",
        "\n",
        "# TO DO: \n",
        "# Compute the determinant of cov* and its log. These are scalar quantities\n",
        "#  Hint: use np.log, np.linalg.det\n",
        "\n",
        "det_cov1 = np.linalg.det(cov1)\n",
        "det_cov2 = np.linalg.det(cov2)\n",
        "det_cov3 =np.linalg.det(cov3)\n",
        "\n",
        "log_cov1 = np.log(det_cov1)\n",
        "log_cov2 = np.log(det_cov2)\n",
        "log_cov3 = np.log(det_cov3)\n",
        "\n",
        "\n",
        "\n",
        "# TO DO:\n",
        "# Compute the inverse of cov*\n",
        "#   These are matrices of size 4x4\n",
        "#   Hint: use np.linalg.inv\n",
        "inv_cov1 = np.linalg.inv(cov1)\n",
        "inv_cov2 = np.linalg.inv(cov2)\n",
        "inv_cov3 = np.linalg.inv(cov3)\n",
        "\n",
        "# Equally likely prior prob.\n",
        "log_prior = np.log(1/3)"
      ]
    },
    {
      "cell_type": "code",
      "execution_count": 7,
      "metadata": {
        "ExecuteTime": {
          "end_time": "2021-10-23T05:45:45.135850Z",
          "start_time": "2021-10-23T05:45:45.112652Z"
        },
        "colab": {
          "base_uri": "https://localhost:8080/"
        },
        "id": "hLRWIp4_K2Rr",
        "outputId": "6e4cd689-228b-4a1c-ce29-5dd7973a5c4e"
      },
      "outputs": [
        {
          "output_type": "stream",
          "name": "stdout",
          "text": [
            "[4.80081778 3.48799556 1.26920989 0.34787733]\n",
            "[6.06588222 2.82287978 4.26241333 1.10785197]\n",
            "[6.42966    2.95656956 5.55874667 1.92476547]\n",
            "[[ 0.73847372 -0.09788292  0.162097    0.09430334]\n",
            " [-0.09788292  1.04517177  0.08250472  0.06122466]\n",
            " [ 0.162097    0.08250472  0.75386746  0.07747734]\n",
            " [ 0.09430334  0.06122466  0.07747734  0.51347455]]\n",
            "[[ 1.02666705  0.16051089  0.28736137 -0.10850815]\n",
            " [ 0.16051089  0.80414317  0.20221368 -0.07318826]\n",
            " [ 0.28736137  0.20221368  0.74048204 -0.04380217]\n",
            " [-0.10850815 -0.07318826 -0.04380217  0.69674064]]\n",
            "[[1.36272732 0.26608677 0.44568822 0.30336696]\n",
            " [0.26608677 1.03934606 0.12853287 0.18437967]\n",
            " [0.44568822 0.12853287 0.69605886 0.23021863]\n",
            " [0.30336696 0.18437967 0.23021863 0.85756954]]\n"
          ]
        }
      ],
      "source": [
        "# print the mean vectors and the covariance matrices\n",
        "print(u1)\n",
        "print(u2)\n",
        "print(u3)\n",
        "print(cov1)\n",
        "print(cov2)\n",
        "print(cov3)"
      ]
    },
    {
      "cell_type": "markdown",
      "metadata": {
        "id": "I0ab1rXfDRqi"
      },
      "source": [
        "## Validation phase"
      ]
    },
    {
      "cell_type": "code",
      "execution_count": 8,
      "metadata": {
        "ExecuteTime": {
          "end_time": "2021-10-23T05:45:45.745665Z",
          "start_time": "2021-10-23T05:45:45.728176Z"
        },
        "code_folding": [],
        "colab": {
          "base_uri": "https://localhost:8080/"
        },
        "id": "6d1zwqD6DRqj",
        "outputId": "3ca11582-7824-44ac-d838-73fa581b0252"
      },
      "outputs": [
        {
          "output_type": "stream",
          "name": "stdout",
          "text": [
            "Classification accuracy =  0.9333\n"
          ]
        }
      ],
      "source": [
        "# Evaluate model accuracy with validation dataset\n",
        "# The dimension of the validation dataset, val_data, is 15x5. The first four\n",
        "# columns are the feature columns and the last column is the class label column\n",
        "\n",
        "# For each sample, compute the discriminant function (g1, g2, g3) corresponding to each class\n",
        "# Assume equal prior = 1/3\n",
        "# The predicted class label is associated with the largest of g1, g2, g3\n",
        "# Count the number of correctly predicted labels\n",
        "import math\n",
        "\n",
        "correct_class = 0;  # number of correctly predicted label\n",
        "\n",
        "for i in range(0, len(val_data)):\n",
        "    x = val_data[i,0:4]  # test sample's feature vector (transpose) 1x4\n",
        "    y = val_data[i,4]    # test samples's true label\n",
        "    # TO DO: compute g1, g2, g3\n",
        "    g1 = -0.5*np.dot(np.dot((x - u1).transpose(),inv_cov1),(x - u1)) - 0.5 * log_cov1 + math.log(1/3)\n",
        "    g2 = -0.5*np.dot(np.dot((x - u2).transpose(),inv_cov2),(x - u2)) - 0.5 * log_cov2 + math.log(1/3)\n",
        "    g3 = -0.5*np.dot(np.dot((x - u3).transpose(),inv_cov3),(x - u3)) - 0.5 * log_cov3 + math.log(1/3)\n",
        "\n",
        "    # TO DO: \n",
        "    #  Now find the predicted class y_hat, compare it with the true label y\n",
        "    #  and count the number of corectly predicted labels (correct_class)\n",
        "    #  Recall this is a classification problem, hence y_hat should be \n",
        "    #  a discrete value (1, 2 or 3)\n",
        "    y_hat = np.argmax([g1,g2,g3])+1\n",
        "    \n",
        "    if (y_hat == y):\n",
        "        correct_class = correct_class + 1\n",
        "\n",
        "print('Classification accuracy = ', '{0:.4f}'. format(correct_class/15))"
      ]
    },
    {
      "cell_type": "code",
      "execution_count": null,
      "metadata": {
        "id": "n8sgO2ZShqfY"
      },
      "outputs": [],
      "source": [
        ""
      ]
    },
    {
      "cell_type": "code",
      "execution_count": null,
      "metadata": {
        "id": "wKA61c1ZhqfZ"
      },
      "outputs": [],
      "source": [
        ""
      ]
    }
  ],
  "metadata": {
    "anaconda-cloud": {},
    "colab": {
      "name": "Assignment_discriminant_analysis_h.ipynb",
      "provenance": []
    },
    "kernelspec": {
      "display_name": "Python 3",
      "language": "python",
      "name": "python3"
    },
    "language_info": {
      "codemirror_mode": {
        "name": "ipython",
        "version": 3
      },
      "file_extension": ".py",
      "mimetype": "text/x-python",
      "name": "python",
      "nbconvert_exporter": "python",
      "pygments_lexer": "ipython3",
      "version": "3.7.6"
    }
  },
  "nbformat": 4,
  "nbformat_minor": 0
}
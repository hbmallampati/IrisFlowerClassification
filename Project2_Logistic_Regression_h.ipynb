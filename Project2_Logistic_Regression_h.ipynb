{
  "nbformat": 4,
  "nbformat_minor": 0,
  "metadata": {
    "colab": {
      "name": "Project2_Logistic_Regression.ipynb",
      "provenance": []
    },
    "kernelspec": {
      "name": "python3",
      "display_name": "Python 3"
    },
    "language_info": {
      "name": "python"
    }
  },
  "cells": [
    {
      "cell_type": "code",
      "metadata": {
        "colab": {
          "base_uri": "https://localhost:8080/"
        },
        "id": "QnL1luj_ESBP",
        "outputId": "6adc8832-d8b7-4661-c894-02f0d2867873"
      },
      "source": [
        "import numpy as np\n",
        "import pandas as pd\n",
        "import numpy.matlib\n",
        "import matplotlib.pyplot as plt\n",
        "\n",
        "# read dataset\n",
        "df = pd.read_csv(\"shuffled_2class_iris_dataset.csv\")\n",
        "print(df.head())\n",
        "\n",
        "df = df.values\n",
        "X = df[:,0:4]   # 100x4\n",
        "y = df[:,4]     # 100x1"
      ],
      "execution_count": 2,
      "outputs": [
        {
          "output_type": "stream",
          "name": "stdout",
          "text": [
            "   sepal_width  sepal_length  petal_width  petal_length  class\n",
            "0          5.6           3.0          4.1           1.3      0\n",
            "1          5.4           3.9          1.7           0.4      1\n",
            "2          5.6           3.0          4.5           1.5      0\n",
            "3          5.0           3.5          1.6           0.6      1\n",
            "4          5.5           2.4          3.7           1.0      0\n"
          ]
        }
      ]
    },
    {
      "cell_type": "code",
      "metadata": {
        "id": "elccks3nFRc9"
      },
      "source": [
        "# Zero out the mean\n",
        "diff = X.max(0) - X.min(0)\n",
        "X = X - diff\n",
        "\n",
        "# Create 90/10 trainig/test sets\n",
        "train_data = X[0:90,0:4]; train_label = y[0:90]\n",
        "test_data = X[90:100,0:4]; test_label = y[90:100]\n",
        "\n",
        "zz = np.ones((len(test_data),1))\n",
        "test_data = np.concatenate((zz,test_data), axis=1)  # 90x5\n",
        "\n",
        "np.random.seed(1)"
      ],
      "execution_count": 3,
      "outputs": []
    },
    {
      "cell_type": "code",
      "metadata": {
        "colab": {
          "base_uri": "https://localhost:8080/",
          "height": 279
        },
        "id": "zOSUDOcPFh1G",
        "outputId": "5583000c-7ec3-4478-a7a2-a4dfd713b345"
      },
      "source": [
        "# Train the model using the training data\n",
        "\n",
        "# Use batch gradient descent to find the optimal weights of the sigmoid function\n",
        "# Experiment with different learning rates\n",
        "# Run it for 1500 iterations.  You may change the number of iterations as you see fit.\n",
        "\n",
        "# Initialization\n",
        "nu = 0.01\n",
        "MAX_EPOCHS = 1500\n",
        "J_vec = []\n",
        "\n",
        "# The rest of initialization ...\n",
        "\n",
        "zz = np.ones((len(train_data),1))\n",
        "X_train = np.concatenate((zz,train_data), axis=1)  # 90x5\n",
        "y_train = train_label.reshape(len(train_label),1)  # 90x1\n",
        "#print ('Xshape=', X.shape, 'yshape=', y.shape)\n",
        "w = np.random.rand(5,1)\n",
        "w0 = w[0]; w1 = w[1]; w2 = w[2]; w3 = w[3]; w4 = w[4]\n",
        "N = len(y_train)\n",
        "\n",
        "# Loop for 1500 epochs\n",
        "for itr in range (0, MAX_EPOCHS):\n",
        "\n",
        "    # TO DO: write the update equation\n",
        "    #   X_train is 90x5; the first column is all 1's\n",
        "    #     1st feature of the first observation (1st row, 2nd column): X_train[0,1]\n",
        "    #     4th feature of the second observation (2nd row, 4th column): X_train[1,4]\n",
        "    #   y_train is 90x1\n",
        "    #     the label of the first observation (1st row): y_train[0]\n",
        "    #     the label of the seventh observation (7th row): y_train[6]\n",
        "    #\n",
        "    #  You may want to use np.exp and np.log in your computation\n",
        "    for i in range(0,len(X_train)):\n",
        "        sigmoid_f = 1/(1+(np.exp(-(w0*X_train[i][0] + w1*X_train[i][1] + w2*X_train[i][2] + w3*X_train[i][3] + w4*X_train[i][4]))))\n",
        "\n",
        "        w0 = w0 - nu * (sum((sigmoid_f-y_train[i])*X_train[i][0]))/N\n",
        "        w1 = w1 - nu * (sum((sigmoid_f-y_train[i])*X_train[i][1]))/N\n",
        "        w2 = w2 - nu * (sum((sigmoid_f-y_train[i])*X_train[i][2]))/N\n",
        "        w3 = w3 - nu * (sum((sigmoid_f-y_train[i])*X_train[i][3]))/N\n",
        "        w4 = w4 - nu * (sum((sigmoid_f-y_train[i])*X_train[i][4]))/N        \n",
        "   \n",
        "    # TO DO: compute cost function J\n",
        "        cost_f = -(sum((y_train[i]*np.log(sigmoid_f))+((1-y_train[i])*np.log(1-sigmoid_f))))\n",
        "  \n",
        "  \n",
        "    ## Collect the cost function result from each epoch to generate a plot\n",
        "    J_vec.append(cost_f)   # 1500x1\n",
        "    \n",
        "  \n",
        "# Plot cost function vs iterations\n",
        "plt.plot(J_vec)\n",
        "plt.xlabel('Epochs')\n",
        "plt.ylabel('Error')\n",
        "plt.show()"
      ],
      "execution_count": 4,
      "outputs": [
        {
          "output_type": "display_data",
          "data": {
            "text/plain": [
              "<Figure size 432x288 with 1 Axes>"
            ],
            "image/png": "[encoded data removed]"
          },
          "metadata": {
            "needs_background": "light"
          }
        }
      ]
    },
    {
      "cell_type": "code",
      "metadata": {
        "colab": {
          "base_uri": "https://localhost:8080/"
        },
        "id": "N1h44z6nHOVl",
        "outputId": "d5421062-d5c6-4a83-8c79-11d41fb440b2"
      },
      "source": [
        "print(cost_f)"
      ],
      "execution_count": 5,
      "outputs": [
        {
          "output_type": "stream",
          "name": "stdout",
          "text": [
            "0.045530188355704763\n"
          ]
        }
      ]
    },
    {
      "cell_type": "code",
      "metadata": {
        "colab": {
          "base_uri": "https://localhost:8080/"
        },
        "id": "oZqCuAo-HZ-C",
        "outputId": "7512e4af-8288-4448-f1f4-b51cb537310a"
      },
      "source": [
        "# Now use the test set to test the model\n",
        "\n",
        "# Print the actual and predicted class labels\n",
        "# Print the average accuracy\n",
        "\n",
        "correct_class_cnt = 0\n",
        "for i in range (0, len(test_data)):\n",
        "    \n",
        "    # TO DO: \n",
        "    # Compute the sigmoid function for each test data and optimal weights\n",
        "    # Find the predicted label y_hat based on threshold = 0.5\n",
        "    # \n",
        "    # test_data = 10x5, the first column is all 1's\n",
        "    #   1st feature of the first observation (1st row, 1st column): test_data[0,1]\n",
        "    #   4th feature of the second observation (2nd row, 3th column): test_data[1,4]\n",
        "    #\n",
        "    #   test_label is 10x1\n",
        "    #   the label of the first observation (1st row): test_label[0]\n",
        "    #   the label of the seventh observation (7th row): test_label[6]\n",
        "    sigmoid_f = 1/(1+(np.exp(-(w0*test_data[i][0] + w1*test_data[i][1] + w2*test_data[i][2] + w3*test_data[i][3] + w4*test_data[i][4]))))\n",
        "    if sigmoid_f <=0.5:\n",
        "        y_hat = 0.0\n",
        "    else:\n",
        "        y_hat = 1.0\n",
        "        \n",
        "        \n",
        "    ### Check accuracy\n",
        "    print('y={}, y_hat={}'.format(test_label[i], y_hat))\n",
        "    if (y_hat == test_label[i]):\n",
        "        correct_class_cnt += 1\n",
        "\n",
        "print('Average accuracy = {0:2f}'.format(correct_class_cnt/10))\n"
      ],
      "execution_count": 6,
      "outputs": [
        {
          "output_type": "stream",
          "name": "stdout",
          "text": [
            "y=1.0, y_hat=1.0\n",
            "y=1.0, y_hat=1.0\n",
            "y=0.0, y_hat=0.0\n",
            "y=1.0, y_hat=1.0\n",
            "y=0.0, y_hat=0.0\n",
            "y=1.0, y_hat=1.0\n",
            "y=0.0, y_hat=0.0\n",
            "y=0.0, y_hat=0.0\n",
            "y=0.0, y_hat=0.0\n",
            "y=1.0, y_hat=1.0\n",
            "Average accuracy = 1.000000\n"
          ]
        }
      ]
    },
    {
      "cell_type": "code",
      "metadata": {
        "colab": {
          "base_uri": "https://localhost:8080/"
        },
        "id": "Crk2LFExIGma",
        "outputId": "9e1704c5-0640-4c99-f03a-61b99f395a68"
      },
      "source": [
        "# Print the optimal weights\n",
        "print(w0, w1, w2, w3, w4)"
      ],
      "execution_count": 7,
      "outputs": [
        {
          "output_type": "stream",
          "name": "stdout",
          "text": [
            "[-0.02090624] [-1.14391237] [0.51794068] [-1.78585906] [-0.49295543]\n"
          ]
        }
      ]
    }
  ]
}